{
 "cells": [
  {
   "cell_type": "code",
   "execution_count": 4,
   "metadata": {},
   "outputs": [],
   "source": [
    "import pandas as pd\n",
    "from sklearn.model_selection import train_test_split\n",
    "from sklearn import metrics\n",
    "\n",
    "dataset = pd.read_csv(\"Features unigrama.csv\", sep=\",\", low_memory=False)\n",
    "df = dataset.fillna(0)\n",
    "x=[0.3,0.25,0.2]\n",
    "y = df.label\n",
    "X = df.drop('label', axis=1)\n",
    "for i in x:\n",
    "    X_train, X_test, y_train, y_test = train_test_split(X, y, test_size=i, random_state=42, stratify=y)\n",
    "    if i == 0.3:\n",
    "        X_train.to_csv (r'X_train_unigram70.csv', index = False, header=True)\n",
    "        X_test.to_csv (r'X_test_unigram70.csv', index = False, header=True)\n",
    "        y_train.to_csv (r'y_train_unigram70.csv', index = False, header=True)\n",
    "        y_test.to_csv (r'y_test_unigram70.csv', index = False, header=True)\n",
    "        \n",
    "    else:\n",
    "        if i == 0.2:\n",
    "            X_train.to_csv (r'X_train_unigram80.csv', index = False, header=True)\n",
    "            X_test.to_csv (r'X_test_unigram80.csv', index = False, header=True)\n",
    "            y_train.to_csv (r'y_train_unigram80.csv', index = False, header=True)\n",
    "            y_test.to_csv (r'y_test_unigram80.csv', index = False, header=True)\n",
    "        else:\n",
    "            X_train.to_csv (r'X_train_unigram75.csv', index = False, header=True)\n",
    "            X_test.to_csv (r'X_test_unigram75.csv', index = False, header=True)\n",
    "            y_train.to_csv (r'y_train_unigram75.csv', index = False, header=True)\n",
    "            y_test.to_csv (r'y_test_unigram75.csv', index = False, header=True)"
   ]
  },
  {
   "cell_type": "code",
   "execution_count": 5,
   "metadata": {},
   "outputs": [],
   "source": [
    "X_train.to_csv (r'X_train_bigram.csv', index = False, header=True)\n",
    "X_test.to_csv (r'X_test_bigram.csv', index = False, header=True)\n",
    "y_train.to_csv (r'y_train_bigram.csv', index = False, header=True)\n",
    "y_test.to_csv (r'y_test_bigram.csv', index = False, header=True)"
   ]
  },
  {
   "cell_type": "code",
   "execution_count": null,
   "metadata": {},
   "outputs": [],
   "source": []
  }
 ],
 "metadata": {
  "kernelspec": {
   "display_name": "Python 3",
   "language": "python",
   "name": "python3"
  },
  "language_info": {
   "codemirror_mode": {
    "name": "ipython",
    "version": 3
   },
   "file_extension": ".py",
   "mimetype": "text/x-python",
   "name": "python",
   "nbconvert_exporter": "python",
   "pygments_lexer": "ipython3",
   "version": "3.7.4"
  }
 },
 "nbformat": 4,
 "nbformat_minor": 2
}
